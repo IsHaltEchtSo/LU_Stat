{
 "cells": [
  {
   "cell_type": "markdown",
   "metadata": {},
   "source": [
    "## TASKS\n",
    "1. Create a Jupyter notebook and load the attached dataset anscombes_quartet.txt<br>\n",
    "This dataset consists of two variables x and y in the first two columns coming from four different datasets indicated in the third column.\n",
    "\n",
    "2. Use descriptive statistics to explore this dataset. For each of the datasets<br>\n",
    "(a) Compute the mean, standard deviation for the variables x, y . <br>\n",
    "(b) Fit a linear regression to y = mx +b, you can use Scipy's stats.linregress() and determine m, b and the correlation coefficient.<br>\n",
    "Do you notice something peculiar?\n",
    "\n",
    "3. Visualise the dataset using Matplotlib<br>\n",
    "(a) Plot a histogram of the distribution of the variables x and y for each dataset<br>\n",
    "(b) Create a scatter plot of x and y (for each dataset) to visualise the dependence of these two variables.\n",
    "\n",
    "4. Observe the numbers you obtained in 2. and the plots from 3. and write a summary of your observations."
   ]
  },
  {
   "cell_type": "markdown",
   "metadata": {},
   "source": [
    "## Import Libraries and load + beautify the DataFrame"
   ]
  },
  {
   "cell_type": "code",
   "execution_count": 63,
   "metadata": {},
   "outputs": [],
   "source": [
    "import pandas as pd\n",
    "import numpy as np\n",
    "import scipy.stats\n",
    "import matplotlib.pyplot as plt\n",
    "import seaborn as sns"
   ]
  },
  {
   "cell_type": "code",
   "execution_count": 3,
   "metadata": {},
   "outputs": [
    {
     "data": {
      "text/html": [
       "<div>\n",
       "<style scoped>\n",
       "    .dataframe tbody tr th:only-of-type {\n",
       "        vertical-align: middle;\n",
       "    }\n",
       "\n",
       "    .dataframe tbody tr th {\n",
       "        vertical-align: top;\n",
       "    }\n",
       "\n",
       "    .dataframe thead th {\n",
       "        text-align: right;\n",
       "    }\n",
       "</style>\n",
       "<table border=\"1\" class=\"dataframe\">\n",
       "  <thead>\n",
       "    <tr style=\"text-align: right;\">\n",
       "      <th></th>\n",
       "      <th>#x</th>\n",
       "      <th>y</th>\n",
       "      <th>dataset</th>\n",
       "    </tr>\n",
       "  </thead>\n",
       "  <tbody>\n",
       "    <tr>\n",
       "      <th>0</th>\n",
       "      <td>10.0</td>\n",
       "      <td>8.04</td>\n",
       "      <td>0.0</td>\n",
       "    </tr>\n",
       "    <tr>\n",
       "      <th>1</th>\n",
       "      <td>8.0</td>\n",
       "      <td>6.95</td>\n",
       "      <td>0.0</td>\n",
       "    </tr>\n",
       "    <tr>\n",
       "      <th>2</th>\n",
       "      <td>13.0</td>\n",
       "      <td>7.58</td>\n",
       "      <td>0.0</td>\n",
       "    </tr>\n",
       "    <tr>\n",
       "      <th>3</th>\n",
       "      <td>9.0</td>\n",
       "      <td>8.81</td>\n",
       "      <td>0.0</td>\n",
       "    </tr>\n",
       "    <tr>\n",
       "      <th>4</th>\n",
       "      <td>11.0</td>\n",
       "      <td>8.33</td>\n",
       "      <td>0.0</td>\n",
       "    </tr>\n",
       "  </tbody>\n",
       "</table>\n",
       "</div>"
      ],
      "text/plain": [
       "     #x     y  dataset\n",
       "0  10.0  8.04      0.0\n",
       "1   8.0  6.95      0.0\n",
       "2  13.0  7.58      0.0\n",
       "3   9.0  8.81      0.0\n",
       "4  11.0  8.33      0.0"
      ]
     },
     "execution_count": 3,
     "metadata": {},
     "output_type": "execute_result"
    }
   ],
   "source": [
    "file = \"week2_optional_dataset.txt\"\n",
    "df = pd.read_csv(file)\n",
    "df.head()"
   ]
  },
  {
   "cell_type": "code",
   "execution_count": 4,
   "metadata": {},
   "outputs": [
    {
     "data": {
      "text/html": [
       "<div>\n",
       "<style scoped>\n",
       "    .dataframe tbody tr th:only-of-type {\n",
       "        vertical-align: middle;\n",
       "    }\n",
       "\n",
       "    .dataframe tbody tr th {\n",
       "        vertical-align: top;\n",
       "    }\n",
       "\n",
       "    .dataframe thead th {\n",
       "        text-align: right;\n",
       "    }\n",
       "</style>\n",
       "<table border=\"1\" class=\"dataframe\">\n",
       "  <thead>\n",
       "    <tr style=\"text-align: right;\">\n",
       "      <th></th>\n",
       "      <th>X</th>\n",
       "      <th>Y</th>\n",
       "      <th>Dataset Number</th>\n",
       "    </tr>\n",
       "  </thead>\n",
       "  <tbody>\n",
       "    <tr>\n",
       "      <th>0</th>\n",
       "      <td>10.0</td>\n",
       "      <td>8.04</td>\n",
       "      <td>0</td>\n",
       "    </tr>\n",
       "    <tr>\n",
       "      <th>1</th>\n",
       "      <td>8.0</td>\n",
       "      <td>6.95</td>\n",
       "      <td>0</td>\n",
       "    </tr>\n",
       "    <tr>\n",
       "      <th>2</th>\n",
       "      <td>13.0</td>\n",
       "      <td>7.58</td>\n",
       "      <td>0</td>\n",
       "    </tr>\n",
       "    <tr>\n",
       "      <th>3</th>\n",
       "      <td>9.0</td>\n",
       "      <td>8.81</td>\n",
       "      <td>0</td>\n",
       "    </tr>\n",
       "    <tr>\n",
       "      <th>4</th>\n",
       "      <td>11.0</td>\n",
       "      <td>8.33</td>\n",
       "      <td>0</td>\n",
       "    </tr>\n",
       "  </tbody>\n",
       "</table>\n",
       "</div>"
      ],
      "text/plain": [
       "      X     Y  Dataset Number\n",
       "0  10.0  8.04               0\n",
       "1   8.0  6.95               0\n",
       "2  13.0  7.58               0\n",
       "3   9.0  8.81               0\n",
       "4  11.0  8.33               0"
      ]
     },
     "execution_count": 4,
     "metadata": {},
     "output_type": "execute_result"
    }
   ],
   "source": [
    "df[\"dataset\"] = df[\"dataset\"].astype(\"int\")\n",
    "df.columns = [\"X\", \"Y\", \"Dataset Number\"]\n",
    "df.head()"
   ]
  },
  {
   "cell_type": "code",
   "execution_count": 65,
   "metadata": {},
   "outputs": [
    {
     "data": {
      "text/plain": [
       "<matplotlib.axes._subplots.AxesSubplot at 0x7fd2d54d2810>"
      ]
     },
     "execution_count": 65,
     "metadata": {},
     "output_type": "execute_result"
    },
    {
     "data": {
      "image/png": "[encoded data removed]",
      "text/plain": [
       "<Figure size 432x288 with 1 Axes>"
      ]
     },
     "metadata": {
      "needs_background": "light"
     },
     "output_type": "display_data"
    }
   ],
   "source": [
    "sns.lineplot(x=\"X\", y=\"Y\", hue=\"Dataset Number\", data=df)"
   ]
  },
  {
   "cell_type": "markdown",
   "metadata": {},
   "source": [
    "## Create subsets for the respective Datasets"
   ]
  },
  {
   "cell_type": "code",
   "execution_count": 8,
   "metadata": {},
   "outputs": [],
   "source": [
    "df0 = df.loc[df[\"Dataset Number\"] == 0]\n",
    "df1 = df.loc[df[\"Dataset Number\"] == 1]\n",
    "df2 = df.loc[df[\"Dataset Number\"] == 2]\n",
    "df3 = df.loc[df[\"Dataset Number\"] == 3]"
   ]
  },
  {
   "cell_type": "code",
   "execution_count": 15,
   "metadata": {},
   "outputs": [
    {
     "name": "stdout",
     "output_type": "stream",
     "text": [
      "DF's Shape: (44, 3)\n",
      "DF0's Shape: (11, 3)\n",
      "DF1's Shape: (11, 3)\n",
      "DF2's Shape: (11, 3)\n",
      "DF3's Shape: (11, 3)\n",
      "\n"
     ]
    }
   ],
   "source": [
    "print(\"\"\"DF's Shape: {}\n",
    "DF0's Shape: {}\n",
    "DF1's Shape: {}\n",
    "DF2's Shape: {}\n",
    "DF3's Shape: {}\n",
    "\"\"\".format(df.shape, df0.shape, df1.shape, df2.shape, df3.shape))"
   ]
  },
  {
   "cell_type": "markdown",
   "metadata": {},
   "source": [
    "## Descriptive Statistics\n",
    "Compute Mean & Standard Deviation for x|y<br>\n",
    "Determine the Parameters for a Linear Regression"
   ]
  },
  {
   "cell_type": "code",
   "execution_count": 33,
   "metadata": {},
   "outputs": [],
   "source": [
    "sub_dfs = [df0, df1, df2, df3]\n",
    "results = {\"Set0\": {}, \"Set1\": {}, \"Set2\": {}, \"Set3\": {}}"
   ]
  },
  {
   "cell_type": "code",
   "execution_count": 38,
   "metadata": {},
   "outputs": [],
   "source": [
    "for num in range(4):\n",
    "    frame = sub_dfs[num]\n",
    "    linreg = scipy.stats.linregress(x=frame.X, y=frame.Y)\n",
    "    results[\"Set{}\".format(num)] = {\"Slope\": linreg.slope, \n",
    "                                    \"Intercept\": linreg.intercept, \n",
    "                                    \"Rvalue\": linreg.rvalue,\n",
    "                                    \"Mean_X\": np.mean(frame.X),\n",
    "                                    \"Mean_Y\": np.mean(frame.Y),\n",
    "                                    \"StD_X\": np.std(frame.X),\n",
    "                                    \"StD_Y\": np.std(frame.Y)}\n",
    "    "
   ]
  },
  {
   "cell_type": "code",
   "execution_count": 72,
   "metadata": {},
   "outputs": [
    {
     "name": "stdout",
     "output_type": "stream",
     "text": [
      "The X_Mean of Set0 is 9.00\n",
      "The X_Mean of Set1 is 9.00\n",
      "The X_Mean of Set2 is 9.00\n",
      "The X_Mean of Set3 is 9.00\n",
      "The Y_Mean of Set0 is 7.50\n",
      "The Y_Mean of Set1 is 7.50\n",
      "The Y_Mean of Set2 is 7.50\n",
      "The Y_Mean of Set3 is 7.50\n",
      "The X_StD of Set0 is 3.16\n",
      "The X_StD of Set1 is 3.16\n",
      "The X_StD of Set2 is 3.16\n",
      "The X_StD of Set3 is 3.16\n",
      "The Y_StD of Set0 is 1.94\n",
      "The Y_StD of Set1 is 1.94\n",
      "The Y_StD of Set2 is 1.94\n",
      "The Y_StD of Set3 is 1.94\n",
      "The Rvalue of Set0 is 0.82\n",
      "The Rvalue of Set1 is 0.82\n",
      "The Rvalue of Set2 is 0.82\n",
      "The Rvalue of Set3 is 0.82\n"
     ]
    }
   ],
   "source": [
    "for num in range(4):\n",
    "    print(\"The X_Mean of Set{} is {:.2f}\".format(num, results[\"Set{}\".format(num)][\"Mean_X\"]))\n",
    "for num in range(4):\n",
    "    print(\"The Y_Mean of Set{} is {:.2f}\".format(num, results[\"Set{}\".format(num)][\"Mean_Y\"]))\n",
    "for num in range(4):\n",
    "    print(\"The X_StD of Set{} is {:.2f}\".format(num, results[\"Set{}\".format(num)][\"StD_X\"]))\n",
    "for num in range(4):\n",
    "    print(\"The Y_StD of Set{} is {:.2f}\".format(num, results[\"Set{}\".format(num)][\"StD_Y\"]))\n",
    "for num in range(4):\n",
    "    print(\"The Rvalue of Set{} is {:.2f}\".format(num, results[\"Set{}\".format(num)][\"Rvalue\"]))"
   ]
  },
  {
   "cell_type": "markdown",
   "metadata": {},
   "source": [
    "<br>"
   ]
  },
  {
   "cell_type": "markdown",
   "metadata": {},
   "source": [
    "<span style=\"background:yellow\">\n",
    "Even tough the figures from the 4 datasets display completely different shapes, they still share the same values for means, standard deviations and r-/rsquarred-values! Only looking at these metrics can cause confusion and the wrong belief, these datasets might be from the same distribution!</span>"
   ]
  },
  {
   "cell_type": "markdown",
   "metadata": {},
   "source": [
    "<br>"
   ]
  },
  {
   "cell_type": "markdown",
   "metadata": {},
   "source": [
    "## Visualization with Matplotlib and Seaborn\n",
    "Histograms for the X/Y Distributions<br>\n",
    "Scatterplot for X/Y"
   ]
  },
  {
   "cell_type": "code",
   "execution_count": 172,
   "metadata": {},
   "outputs": [
    {
     "data": {
      "text/plain": [
       "(array([0.2507837 , 0.2507837 , 0.12539185, 0.        , 0.06269592]),\n",
       " array([ 5.25,  6.7 ,  8.15,  9.6 , 11.05, 12.5 ]),\n",
       " <a list of 5 Patch objects>)"
      ]
     },
     "execution_count": 172,
     "metadata": {},
     "output_type": "execute_result"
    },
    {
     "data": {
      "image/png": "[encoded data removed]",
      "text/plain": [
       "<Figure size 432x288 with 1 Axes>"
      ]
     },
     "metadata": {
      "needs_background": "light"
     },
     "output_type": "display_data"
    }
   ],
   "source": [
    "plt.hist(df0.Y, alpha=0.5, bins=5, density=True)\n",
    "plt.hist(df1.Y, alpha=0.5, bins=5, density=True)\n",
    "plt.hist(df2.Y, alpha=0.5, bins=5, density=True)\n",
    "plt.hist(df3.Y, alpha=0.5, bins=5, density=True)\n"
   ]
  },
  {
   "cell_type": "code",
   "execution_count": 107,
   "metadata": {},
   "outputs": [
    {
     "data": {
      "text/plain": [
       "<matplotlib.axes._subplots.AxesSubplot at 0x7fd2d6811810>"
      ]
     },
     "execution_count": 107,
     "metadata": {},
     "output_type": "execute_result"
    },
    {
     "data": {
      "image/png": "[encoded data removed]",
      "text/plain": [
       "<Figure size 576x576 with 1 Axes>"
      ]
     },
     "metadata": {
      "needs_background": "light"
     },
     "output_type": "display_data"
    }
   ],
   "source": [
    "plt.figure(figsize=(8,8))\n",
    "sns.scatterplot(x=\"X\", y=\"Y\", hue=\"Dataset Number\", data=df)\n",
    "sns.lineplot(x=\"X\", y=\"Y\", hue=\"Dataset Number\", data=df)"
   ]
  },
  {
   "cell_type": "markdown",
   "metadata": {},
   "source": [
    "<br>"
   ]
  },
  {
   "cell_type": "markdown",
   "metadata": {},
   "source": [
    "<span style=\"background:orange\">\n",
    "Even tough the figures from the 4 datasets display completely different shapes, they still share the same values for means, standard deviations and r-/rsquarred-values! Only looking at these metrics can cause confusion and the wrong belief that these datasets might be from the same distribution! <br>Looking at the scatterplots/lineplots and the histograms for the y-values, one can clearly see that these 4 datasets containt different distributions!</span>"
   ]
  },
  {
   "cell_type": "code",
   "execution_count": null,
   "metadata": {},
   "outputs": [],
   "source": []
  }
 ],
 "metadata": {
  "kernelspec": {
   "display_name": "Python 3",
   "language": "python",
   "name": "python3"
  },
  "language_info": {
   "codemirror_mode": {
    "name": "ipython",
    "version": 3
   },
   "file_extension": ".py",
   "mimetype": "text/x-python",
   "name": "python",
   "nbconvert_exporter": "python",
   "pygments_lexer": "ipython3",
   "version": "3.7.6"
  }
 },
 "nbformat": 4,
 "nbformat_minor": 4
}
