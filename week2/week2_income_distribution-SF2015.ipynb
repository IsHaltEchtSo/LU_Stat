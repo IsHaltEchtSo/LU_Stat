{
 "cells": [
  {
   "cell_type": "markdown",
   "metadata": {},
   "source": [
    "The exercise in this notebook was taken from the book [Computational and Inferential Thinking](https://www.inferentialthinking.com/chapters/intro.html) The Foundations of Data Science \n",
    "By Ani Adhikari and John DeNero\n",
    "\n",
    "Licensed for free consumption under the following license:\n",
    "Creative Commons Attribution-NonCommercial-NoDerivatives 4.0 International ([CC BY-NC-ND 4.0](https://creativecommons.org/licenses/by-nc-nd/4.0/)).\n",
    "\n",
    "Quotations refer to the original text."
   ]
  },
  {
   "cell_type": "markdown",
   "metadata": {},
   "source": [
    "# Statistics on employee compensation in the City of San Francisco in 2015\n",
    "\n",
    "\n",
    "In this notebook, we explore the employee compensations in the City of San Francisco in 2015 using various statics, such as mean, standard, median and other percentiles.\n",
    "\n",
    "The mentioned dataset contains all employees of the City. However, most often, we don't have access to an entire population but only to a sample of it. Data scientists are interested in making estimates about the population from a sample. However, because the statistic depends on the random sample, a question that arises is how much does the static depend on the particular sample; how different will it be if we had drawn a different sample?\n",
    "\n",
    "To answer this question, in the second part of this notebook, we learn about a technique called **bootstrapping** used to quantify the error or confidence of an estimate."
   ]
  },
  {
   "cell_type": "markdown",
   "metadata": {},
   "source": [
    "## The dataset\n",
    "\n",
    "> [SF OpenData](https://data.sfgov.org/) is a website where the City and County of San Francisco make some of their data publicly available. One of the data sets contains [compensation data for employees of the City](https://data.sfgov.org/City-Management-and-Ethics/Employee-Compensation/88g8-5mnd). These include medical professionals at City-run hospitals, police officers, fire fighters, transportation workers, elected officials, and all other employees of the City."
   ]
  },
  {
   "cell_type": "markdown",
   "metadata": {},
   "source": [
    "We're going to start by importing some modules for loading, plotting and manipulating the data."
   ]
  },
  {
   "cell_type": "code",
   "execution_count": 2,
   "metadata": {},
   "outputs": [],
   "source": [
    "import numpy as np  # module for creating and manipulating arrays\n",
    "import matplotlib.pyplot as plt  # plotting\n",
    "import pandas as pd  # dataframes"
   ]
  },
  {
   "cell_type": "markdown",
   "metadata": {},
   "source": [
    "We load a pre-cleaned version of the dataset from [Berkeley's Data 8 course](https://github.com/data-8) material"
   ]
  },
  {
   "cell_type": "code",
   "execution_count": 3,
   "metadata": {},
   "outputs": [],
   "source": [
    "url = 'https://raw.githubusercontent.com/data-8/materials-sp18/master/lec/san_francisco_2015.csv'\n",
    "df0 = pd.read_csv(url)"
   ]
  },
  {
   "cell_type": "markdown",
   "metadata": {},
   "source": [
    "Print dataset size and column names"
   ]
  },
  {
   "cell_type": "code",
   "execution_count": 4,
   "metadata": {},
   "outputs": [
    {
     "name": "stdout",
     "output_type": "stream",
     "text": [
      "Employee compensations in the City of San Francisco in the year 2015\n",
      "Shape: (42989, 22) \n",
      "Columns: Index(['Year Type', 'Year', 'Organization Group Code', 'Organization Group',\n",
      "       'Department Code', 'Department', 'Union Code', 'Union',\n",
      "       'Job Family Code', 'Job Family', 'Job Code', 'Job',\n",
      "       'Employee Identifier', 'Salaries', 'Overtime', 'Other Salaries',\n",
      "       'Total Salary', 'Retirement', 'Health/Dental', 'Other Benefits',\n",
      "       'Total Benefits', 'Total Compensation'],\n",
      "      dtype='object')\n"
     ]
    },
    {
     "data": {
      "text/html": [
       "<div>\n",
       "<style scoped>\n",
       "    .dataframe tbody tr th:only-of-type {\n",
       "        vertical-align: middle;\n",
       "    }\n",
       "\n",
       "    .dataframe tbody tr th {\n",
       "        vertical-align: top;\n",
       "    }\n",
       "\n",
       "    .dataframe thead th {\n",
       "        text-align: right;\n",
       "    }\n",
       "</style>\n",
       "<table border=\"1\" class=\"dataframe\">\n",
       "  <thead>\n",
       "    <tr style=\"text-align: right;\">\n",
       "      <th></th>\n",
       "      <th>Year Type</th>\n",
       "      <th>Year</th>\n",
       "      <th>Organization Group Code</th>\n",
       "      <th>Organization Group</th>\n",
       "      <th>Department Code</th>\n",
       "      <th>Department</th>\n",
       "      <th>Union Code</th>\n",
       "      <th>Union</th>\n",
       "      <th>Job Family Code</th>\n",
       "      <th>Job Family</th>\n",
       "      <th>...</th>\n",
       "      <th>Employee Identifier</th>\n",
       "      <th>Salaries</th>\n",
       "      <th>Overtime</th>\n",
       "      <th>Other Salaries</th>\n",
       "      <th>Total Salary</th>\n",
       "      <th>Retirement</th>\n",
       "      <th>Health/Dental</th>\n",
       "      <th>Other Benefits</th>\n",
       "      <th>Total Benefits</th>\n",
       "      <th>Total Compensation</th>\n",
       "    </tr>\n",
       "  </thead>\n",
       "  <tbody>\n",
       "    <tr>\n",
       "      <th>0</th>\n",
       "      <td>Calendar</td>\n",
       "      <td>2015</td>\n",
       "      <td>2</td>\n",
       "      <td>Public Works, Transportation &amp; Commerce</td>\n",
       "      <td>WTR</td>\n",
       "      <td>PUC Water Department</td>\n",
       "      <td>21.0</td>\n",
       "      <td>Prof &amp; Tech Engineers - Miscellaneous, Local 21</td>\n",
       "      <td>2400</td>\n",
       "      <td>Lab, Pharmacy &amp; Med Techs</td>\n",
       "      <td>...</td>\n",
       "      <td>21538</td>\n",
       "      <td>82146.04</td>\n",
       "      <td>0.00</td>\n",
       "      <td>0.00</td>\n",
       "      <td>82146.04</td>\n",
       "      <td>16942.21</td>\n",
       "      <td>12340.88</td>\n",
       "      <td>6337.73</td>\n",
       "      <td>35620.82</td>\n",
       "      <td>117766.86</td>\n",
       "    </tr>\n",
       "    <tr>\n",
       "      <th>1</th>\n",
       "      <td>Calendar</td>\n",
       "      <td>2015</td>\n",
       "      <td>2</td>\n",
       "      <td>Public Works, Transportation &amp; Commerce</td>\n",
       "      <td>DPW</td>\n",
       "      <td>General Services Agency - Public Works</td>\n",
       "      <td>12.0</td>\n",
       "      <td>Carpet, Linoleum and Soft Tile Workers, Local 12</td>\n",
       "      <td>7300</td>\n",
       "      <td>Journeyman Trade</td>\n",
       "      <td>...</td>\n",
       "      <td>5459</td>\n",
       "      <td>32165.75</td>\n",
       "      <td>973.19</td>\n",
       "      <td>848.96</td>\n",
       "      <td>33987.90</td>\n",
       "      <td>0.00</td>\n",
       "      <td>4587.51</td>\n",
       "      <td>2634.42</td>\n",
       "      <td>7221.93</td>\n",
       "      <td>41209.83</td>\n",
       "    </tr>\n",
       "    <tr>\n",
       "      <th>2</th>\n",
       "      <td>Calendar</td>\n",
       "      <td>2015</td>\n",
       "      <td>4</td>\n",
       "      <td>Community Health</td>\n",
       "      <td>DPH</td>\n",
       "      <td>Public Health</td>\n",
       "      <td>790.0</td>\n",
       "      <td>SEIU - Miscellaneous, Local 1021</td>\n",
       "      <td>1600</td>\n",
       "      <td>Payroll, Billing &amp; Accounting</td>\n",
       "      <td>...</td>\n",
       "      <td>41541</td>\n",
       "      <td>71311.00</td>\n",
       "      <td>5757.98</td>\n",
       "      <td>0.00</td>\n",
       "      <td>77068.98</td>\n",
       "      <td>14697.59</td>\n",
       "      <td>12424.50</td>\n",
       "      <td>6370.06</td>\n",
       "      <td>33492.15</td>\n",
       "      <td>110561.13</td>\n",
       "    </tr>\n",
       "    <tr>\n",
       "      <th>3</th>\n",
       "      <td>Calendar</td>\n",
       "      <td>2015</td>\n",
       "      <td>4</td>\n",
       "      <td>Community Health</td>\n",
       "      <td>DPH</td>\n",
       "      <td>Public Health</td>\n",
       "      <td>351.0</td>\n",
       "      <td>Municipal Executive Association - Miscellaneous</td>\n",
       "      <td>0900</td>\n",
       "      <td>Management</td>\n",
       "      <td>...</td>\n",
       "      <td>26718</td>\n",
       "      <td>28430.25</td>\n",
       "      <td>0.00</td>\n",
       "      <td>763.07</td>\n",
       "      <td>29193.32</td>\n",
       "      <td>0.00</td>\n",
       "      <td>4223.14</td>\n",
       "      <td>5208.51</td>\n",
       "      <td>9431.65</td>\n",
       "      <td>38624.97</td>\n",
       "    </tr>\n",
       "    <tr>\n",
       "      <th>4</th>\n",
       "      <td>Calendar</td>\n",
       "      <td>2015</td>\n",
       "      <td>2</td>\n",
       "      <td>Public Works, Transportation &amp; Commerce</td>\n",
       "      <td>MTA</td>\n",
       "      <td>Municipal Transportation Agency</td>\n",
       "      <td>790.0</td>\n",
       "      <td>SEIU - Miscellaneous, Local 1021</td>\n",
       "      <td>8200</td>\n",
       "      <td>Protection &amp; Apprehension</td>\n",
       "      <td>...</td>\n",
       "      <td>45810</td>\n",
       "      <td>7948.75</td>\n",
       "      <td>0.00</td>\n",
       "      <td>0.00</td>\n",
       "      <td>7948.75</td>\n",
       "      <td>0.00</td>\n",
       "      <td>2873.17</td>\n",
       "      <td>616.24</td>\n",
       "      <td>3489.41</td>\n",
       "      <td>11438.16</td>\n",
       "    </tr>\n",
       "  </tbody>\n",
       "</table>\n",
       "<p>5 rows × 22 columns</p>\n",
       "</div>"
      ],
      "text/plain": [
       "  Year Type  Year  Organization Group Code  \\\n",
       "0  Calendar  2015                        2   \n",
       "1  Calendar  2015                        2   \n",
       "2  Calendar  2015                        4   \n",
       "3  Calendar  2015                        4   \n",
       "4  Calendar  2015                        2   \n",
       "\n",
       "                        Organization Group Department Code  \\\n",
       "0  Public Works, Transportation & Commerce             WTR   \n",
       "1  Public Works, Transportation & Commerce             DPW   \n",
       "2                         Community Health             DPH   \n",
       "3                         Community Health             DPH   \n",
       "4  Public Works, Transportation & Commerce             MTA   \n",
       "\n",
       "                               Department  Union Code  \\\n",
       "0                    PUC Water Department        21.0   \n",
       "1  General Services Agency - Public Works        12.0   \n",
       "2                           Public Health       790.0   \n",
       "3                           Public Health       351.0   \n",
       "4         Municipal Transportation Agency       790.0   \n",
       "\n",
       "                                              Union Job Family Code  \\\n",
       "0   Prof & Tech Engineers - Miscellaneous, Local 21            2400   \n",
       "1  Carpet, Linoleum and Soft Tile Workers, Local 12            7300   \n",
       "2                  SEIU - Miscellaneous, Local 1021            1600   \n",
       "3   Municipal Executive Association - Miscellaneous            0900   \n",
       "4                  SEIU - Miscellaneous, Local 1021            8200   \n",
       "\n",
       "                      Job Family  ... Employee Identifier  Salaries  Overtime  \\\n",
       "0      Lab, Pharmacy & Med Techs  ...               21538  82146.04      0.00   \n",
       "1               Journeyman Trade  ...                5459  32165.75    973.19   \n",
       "2  Payroll, Billing & Accounting  ...               41541  71311.00   5757.98   \n",
       "3                     Management  ...               26718  28430.25      0.00   \n",
       "4      Protection & Apprehension  ...               45810   7948.75      0.00   \n",
       "\n",
       "   Other Salaries  Total Salary  Retirement  Health/Dental  Other Benefits  \\\n",
       "0            0.00      82146.04    16942.21       12340.88         6337.73   \n",
       "1          848.96      33987.90        0.00        4587.51         2634.42   \n",
       "2            0.00      77068.98    14697.59       12424.50         6370.06   \n",
       "3          763.07      29193.32        0.00        4223.14         5208.51   \n",
       "4            0.00       7948.75        0.00        2873.17          616.24   \n",
       "\n",
       "   Total Benefits  Total Compensation  \n",
       "0        35620.82           117766.86  \n",
       "1         7221.93            41209.83  \n",
       "2        33492.15           110561.13  \n",
       "3         9431.65            38624.97  \n",
       "4         3489.41            11438.16  \n",
       "\n",
       "[5 rows x 22 columns]"
      ]
     },
     "execution_count": 4,
     "metadata": {},
     "output_type": "execute_result"
    }
   ],
   "source": [
    "print(\"Employee compensations in the City of San Francisco in the \"\\\n",
    "      \"year 2015\\nShape: {} \\nColumns: {}\".format(df0.shape, df0.columns))\n",
    "\n",
    "df0.head()"
   ]
  },
  {
   "cell_type": "markdown",
   "metadata": {},
   "source": [
    "We have one row for each of the 42989 employees and 22 columns. A full description of the dataset can be found [here](https://data.sfgov.org/City-Management-and-Ethics/Employee-Compensation/88g8-5mnd). \n",
    "In this notebook we're interested in the Total compensation, which is the employee's salary plus the state contributions such as retirement and benefit plans ([Employee Compensation | DataSF](https://data.sfgov.org/City-Management-and-Ethics/Employee-Compensation/88g8-5mnd)). "
   ]
  },
  {
   "cell_type": "markdown",
   "metadata": {},
   "source": [
    "### Top three highest compensations\n",
    "\n",
    "Let's have a look at the rows with top 3 highest 'Total Compensation'. \n",
    "\n",
    "Hint: sort the rows using the method `sort_values()` and slicing the dataframe to print the top three rows `[:3]`"
   ]
  },
  {
   "cell_type": "code",
   "execution_count": 5,
   "metadata": {},
   "outputs": [
    {
     "data": {
      "text/html": [
       "<div>\n",
       "<style scoped>\n",
       "    .dataframe tbody tr th:only-of-type {\n",
       "        vertical-align: middle;\n",
       "    }\n",
       "\n",
       "    .dataframe tbody tr th {\n",
       "        vertical-align: top;\n",
       "    }\n",
       "\n",
       "    .dataframe thead th {\n",
       "        text-align: right;\n",
       "    }\n",
       "</style>\n",
       "<table border=\"1\" class=\"dataframe\">\n",
       "  <thead>\n",
       "    <tr style=\"text-align: right;\">\n",
       "      <th></th>\n",
       "      <th>Year Type</th>\n",
       "      <th>Year</th>\n",
       "      <th>Organization Group Code</th>\n",
       "      <th>Organization Group</th>\n",
       "      <th>Department Code</th>\n",
       "      <th>Department</th>\n",
       "      <th>Union Code</th>\n",
       "      <th>Union</th>\n",
       "      <th>Job Family Code</th>\n",
       "      <th>Job Family</th>\n",
       "      <th>...</th>\n",
       "      <th>Employee Identifier</th>\n",
       "      <th>Salaries</th>\n",
       "      <th>Overtime</th>\n",
       "      <th>Other Salaries</th>\n",
       "      <th>Total Salary</th>\n",
       "      <th>Retirement</th>\n",
       "      <th>Health/Dental</th>\n",
       "      <th>Other Benefits</th>\n",
       "      <th>Total Benefits</th>\n",
       "      <th>Total Compensation</th>\n",
       "    </tr>\n",
       "  </thead>\n",
       "  <tbody>\n",
       "    <tr>\n",
       "      <th>19177</th>\n",
       "      <td>Calendar</td>\n",
       "      <td>2015</td>\n",
       "      <td>6</td>\n",
       "      <td>General Administration &amp; Finance</td>\n",
       "      <td>RET</td>\n",
       "      <td>Retirement System</td>\n",
       "      <td>351.0</td>\n",
       "      <td>Municipal Executive Association - Miscellaneous</td>\n",
       "      <td>1100</td>\n",
       "      <td>Administrative &amp; Mgmt (Unrep)</td>\n",
       "      <td>...</td>\n",
       "      <td>46881</td>\n",
       "      <td>507831.60</td>\n",
       "      <td>0.00</td>\n",
       "      <td>0.00</td>\n",
       "      <td>507831.60</td>\n",
       "      <td>105052.98</td>\n",
       "      <td>12424.5</td>\n",
       "      <td>23566.16</td>\n",
       "      <td>141043.64</td>\n",
       "      <td>648875.24</td>\n",
       "    </tr>\n",
       "    <tr>\n",
       "      <th>13194</th>\n",
       "      <td>Calendar</td>\n",
       "      <td>2015</td>\n",
       "      <td>6</td>\n",
       "      <td>General Administration &amp; Finance</td>\n",
       "      <td>ADM</td>\n",
       "      <td>General Services Agency - City Admin</td>\n",
       "      <td>164.0</td>\n",
       "      <td>Physicians and Dentists - Miscellaneous</td>\n",
       "      <td>2500</td>\n",
       "      <td>Med Therapy &amp; Auxiliary</td>\n",
       "      <td>...</td>\n",
       "      <td>1016</td>\n",
       "      <td>279311.10</td>\n",
       "      <td>3829.36</td>\n",
       "      <td>114433.58</td>\n",
       "      <td>397574.04</td>\n",
       "      <td>56211.64</td>\n",
       "      <td>12424.5</td>\n",
       "      <td>14299.10</td>\n",
       "      <td>82935.24</td>\n",
       "      <td>480509.28</td>\n",
       "    </tr>\n",
       "    <tr>\n",
       "      <th>499</th>\n",
       "      <td>Calendar</td>\n",
       "      <td>2015</td>\n",
       "      <td>6</td>\n",
       "      <td>General Administration &amp; Finance</td>\n",
       "      <td>ADM</td>\n",
       "      <td>General Services Agency - City Admin</td>\n",
       "      <td>164.0</td>\n",
       "      <td>Physicians and Dentists - Miscellaneous</td>\n",
       "      <td>2500</td>\n",
       "      <td>Med Therapy &amp; Auxiliary</td>\n",
       "      <td>...</td>\n",
       "      <td>13746</td>\n",
       "      <td>279311.03</td>\n",
       "      <td>9046.92</td>\n",
       "      <td>56742.56</td>\n",
       "      <td>345100.51</td>\n",
       "      <td>56211.61</td>\n",
       "      <td>12424.5</td>\n",
       "      <td>13482.66</td>\n",
       "      <td>82118.77</td>\n",
       "      <td>427219.28</td>\n",
       "    </tr>\n",
       "  </tbody>\n",
       "</table>\n",
       "<p>3 rows × 22 columns</p>\n",
       "</div>"
      ],
      "text/plain": [
       "      Year Type  Year  Organization Group Code  \\\n",
       "19177  Calendar  2015                        6   \n",
       "13194  Calendar  2015                        6   \n",
       "499    Calendar  2015                        6   \n",
       "\n",
       "                     Organization Group Department Code  \\\n",
       "19177  General Administration & Finance             RET   \n",
       "13194  General Administration & Finance             ADM   \n",
       "499    General Administration & Finance             ADM   \n",
       "\n",
       "                                 Department  Union Code  \\\n",
       "19177                     Retirement System       351.0   \n",
       "13194  General Services Agency - City Admin       164.0   \n",
       "499    General Services Agency - City Admin       164.0   \n",
       "\n",
       "                                                 Union Job Family Code  \\\n",
       "19177  Municipal Executive Association - Miscellaneous            1100   \n",
       "13194          Physicians and Dentists - Miscellaneous            2500   \n",
       "499            Physicians and Dentists - Miscellaneous            2500   \n",
       "\n",
       "                          Job Family  ... Employee Identifier   Salaries  \\\n",
       "19177  Administrative & Mgmt (Unrep)  ...               46881  507831.60   \n",
       "13194        Med Therapy & Auxiliary  ...                1016  279311.10   \n",
       "499          Med Therapy & Auxiliary  ...               13746  279311.03   \n",
       "\n",
       "       Overtime  Other Salaries  Total Salary  Retirement  Health/Dental  \\\n",
       "19177      0.00            0.00     507831.60   105052.98        12424.5   \n",
       "13194   3829.36       114433.58     397574.04    56211.64        12424.5   \n",
       "499     9046.92        56742.56     345100.51    56211.61        12424.5   \n",
       "\n",
       "       Other Benefits  Total Benefits  Total Compensation  \n",
       "19177        23566.16       141043.64           648875.24  \n",
       "13194        14299.10        82935.24           480509.28  \n",
       "499          13482.66        82118.77           427219.28  \n",
       "\n",
       "[3 rows x 22 columns]"
      ]
     },
     "execution_count": 5,
     "metadata": {},
     "output_type": "execute_result"
    }
   ],
   "source": [
    "df0.sort_values(['Total Compensation'], ascending=False)[:3]"
   ]
  },
  {
   "cell_type": "markdown",
   "metadata": {},
   "source": [
    "### Three lowest compensations\n",
    "\n",
    "Now, let's have a look at the other end of the distribution.  The rows with the top 3 lowest 'Total Compensation'. \n",
    "\n",
    "Hint: same as above but changing the keyword parameter `ascending` to `False`"
   ]
  },
  {
   "cell_type": "code",
   "execution_count": 6,
   "metadata": {},
   "outputs": [
    {
     "data": {
      "text/html": [
       "<div>\n",
       "<style scoped>\n",
       "    .dataframe tbody tr th:only-of-type {\n",
       "        vertical-align: middle;\n",
       "    }\n",
       "\n",
       "    .dataframe tbody tr th {\n",
       "        vertical-align: top;\n",
       "    }\n",
       "\n",
       "    .dataframe thead th {\n",
       "        text-align: right;\n",
       "    }\n",
       "</style>\n",
       "<table border=\"1\" class=\"dataframe\">\n",
       "  <thead>\n",
       "    <tr style=\"text-align: right;\">\n",
       "      <th></th>\n",
       "      <th>Year Type</th>\n",
       "      <th>Year</th>\n",
       "      <th>Organization Group Code</th>\n",
       "      <th>Organization Group</th>\n",
       "      <th>Department Code</th>\n",
       "      <th>Department</th>\n",
       "      <th>Union Code</th>\n",
       "      <th>Union</th>\n",
       "      <th>Job Family Code</th>\n",
       "      <th>Job Family</th>\n",
       "      <th>...</th>\n",
       "      <th>Employee Identifier</th>\n",
       "      <th>Salaries</th>\n",
       "      <th>Overtime</th>\n",
       "      <th>Other Salaries</th>\n",
       "      <th>Total Salary</th>\n",
       "      <th>Retirement</th>\n",
       "      <th>Health/Dental</th>\n",
       "      <th>Other Benefits</th>\n",
       "      <th>Total Benefits</th>\n",
       "      <th>Total Compensation</th>\n",
       "    </tr>\n",
       "  </thead>\n",
       "  <tbody>\n",
       "    <tr>\n",
       "      <th>27308</th>\n",
       "      <td>Calendar</td>\n",
       "      <td>2015</td>\n",
       "      <td>1</td>\n",
       "      <td>Public Protection</td>\n",
       "      <td>FIR</td>\n",
       "      <td>Fire Department</td>\n",
       "      <td>798.0</td>\n",
       "      <td>Firefighters - Miscellaneous, Local 798</td>\n",
       "      <td>H000</td>\n",
       "      <td>Fire Services</td>\n",
       "      <td>...</td>\n",
       "      <td>43833</td>\n",
       "      <td>0.0</td>\n",
       "      <td>0.0</td>\n",
       "      <td>0.0</td>\n",
       "      <td>0.0</td>\n",
       "      <td>0.0</td>\n",
       "      <td>0.00</td>\n",
       "      <td>-423.76</td>\n",
       "      <td>-423.76</td>\n",
       "      <td>-423.76</td>\n",
       "    </tr>\n",
       "    <tr>\n",
       "      <th>15746</th>\n",
       "      <td>Calendar</td>\n",
       "      <td>2015</td>\n",
       "      <td>4</td>\n",
       "      <td>Community Health</td>\n",
       "      <td>DPH</td>\n",
       "      <td>Public Health</td>\n",
       "      <td>790.0</td>\n",
       "      <td>SEIU - Miscellaneous, Local 1021</td>\n",
       "      <td>9900</td>\n",
       "      <td>Public Service Aide</td>\n",
       "      <td>...</td>\n",
       "      <td>27871</td>\n",
       "      <td>-292.4</td>\n",
       "      <td>0.0</td>\n",
       "      <td>0.0</td>\n",
       "      <td>-292.4</td>\n",
       "      <td>0.0</td>\n",
       "      <td>-95.58</td>\n",
       "      <td>-22.63</td>\n",
       "      <td>-118.21</td>\n",
       "      <td>-410.61</td>\n",
       "    </tr>\n",
       "    <tr>\n",
       "      <th>24576</th>\n",
       "      <td>Calendar</td>\n",
       "      <td>2015</td>\n",
       "      <td>1</td>\n",
       "      <td>Public Protection</td>\n",
       "      <td>JUV</td>\n",
       "      <td>Juvenile Probation</td>\n",
       "      <td>790.0</td>\n",
       "      <td>SEIU - Miscellaneous, Local 1021</td>\n",
       "      <td>8300</td>\n",
       "      <td>Correction &amp; Detention</td>\n",
       "      <td>...</td>\n",
       "      <td>10517</td>\n",
       "      <td>0.0</td>\n",
       "      <td>0.0</td>\n",
       "      <td>0.0</td>\n",
       "      <td>0.0</td>\n",
       "      <td>0.0</td>\n",
       "      <td>0.00</td>\n",
       "      <td>-159.12</td>\n",
       "      <td>-159.12</td>\n",
       "      <td>-159.12</td>\n",
       "    </tr>\n",
       "  </tbody>\n",
       "</table>\n",
       "<p>3 rows × 22 columns</p>\n",
       "</div>"
      ],
      "text/plain": [
       "      Year Type  Year  Organization Group Code Organization Group  \\\n",
       "27308  Calendar  2015                        1  Public Protection   \n",
       "15746  Calendar  2015                        4   Community Health   \n",
       "24576  Calendar  2015                        1  Public Protection   \n",
       "\n",
       "      Department Code          Department  Union Code  \\\n",
       "27308             FIR     Fire Department       798.0   \n",
       "15746             DPH       Public Health       790.0   \n",
       "24576             JUV  Juvenile Probation       790.0   \n",
       "\n",
       "                                         Union Job Family Code  \\\n",
       "27308  Firefighters - Miscellaneous, Local 798            H000   \n",
       "15746         SEIU - Miscellaneous, Local 1021            9900   \n",
       "24576         SEIU - Miscellaneous, Local 1021            8300   \n",
       "\n",
       "                   Job Family  ... Employee Identifier Salaries  Overtime  \\\n",
       "27308           Fire Services  ...               43833      0.0       0.0   \n",
       "15746     Public Service Aide  ...               27871   -292.4       0.0   \n",
       "24576  Correction & Detention  ...               10517      0.0       0.0   \n",
       "\n",
       "       Other Salaries  Total Salary  Retirement  Health/Dental  \\\n",
       "27308             0.0           0.0         0.0           0.00   \n",
       "15746             0.0        -292.4         0.0         -95.58   \n",
       "24576             0.0           0.0         0.0           0.00   \n",
       "\n",
       "       Other Benefits  Total Benefits  Total Compensation  \n",
       "27308         -423.76         -423.76             -423.76  \n",
       "15746          -22.63         -118.21             -410.61  \n",
       "24576         -159.12         -159.12             -159.12  \n",
       "\n",
       "[3 rows x 22 columns]"
      ]
     },
     "execution_count": 6,
     "metadata": {},
     "output_type": "execute_result"
    }
   ],
   "source": [
    "# your code here\n",
    "df0.sort_values(by=\"Total Compensation\", ascending=True)[:3]"
   ]
  },
  {
   "cell_type": "markdown",
   "metadata": {},
   "source": [
    "Negative salaries can occur due to compensation adjustments. For example an employee that was mistakenly overpaid the previous year ([Employee Compensation FAQ](https://support.datasf.org/help/employee-compensation-faq)).\n",
    "\n",
    "\n",
    "### Keep rows with salaries equivalent to a half-time job at a minimum wage\n",
    "\n",
    "> For clarity of comparison, we will focus our attention on those who had at least the equivalent of a half-time job for the whole year. At a minimum wage of about $\\$ 10$ per hour, and $20$ hours per week for 52 weeks, that's a salary of about $\\$10,000$."
   ]
  },
  {
   "cell_type": "code",
   "execution_count": 7,
   "metadata": {},
   "outputs": [],
   "source": [
    "df = df0.loc[df0['Salaries'] > 10000]"
   ]
  },
  {
   "cell_type": "markdown",
   "metadata": {},
   "source": [
    "### Part 1: Statistics on the Total Compensation\n",
    "\n",
    "Let's read the column 'Total Compensation into an array (`TC`) and scale it to have units on thousand dollars."
   ]
  },
  {
   "cell_type": "code",
   "execution_count": 8,
   "metadata": {},
   "outputs": [],
   "source": [
    "TC_k = df['Total Compensation'] / 1000  # scale the Total compensation "
   ]
  },
  {
   "cell_type": "markdown",
   "metadata": {},
   "source": [
    "#### Mean and Standard Deviation\n",
    "\n",
    "The **mean**, often abbreviated with the Greek letter $\\mu$, is a measurement of the centrality of a collection.\n",
    "It's defined as the sum of the elements, divided by the number of elements, \n",
    "$$\n",
    "\\mu = \\sum \\limits_{i=1}^{N} \\frac{x_i}{N}.\n",
    "$$\n",
    "\n",
    "The **standard deviation**, often abbreviated as SD or with the Greek letter $\\sigma$, tells us how close are the points of the collection to the mean. It's defines as the root mean square of the deviations from the mean,\n",
    "$$\n",
    "\\sigma = \\sqrt{\\sum \\limits_{i=1}^{N} \\frac{(x_i - \\mu)^2}{N}}.\n",
    "$$\n",
    "\n",
    "Because the mean tells us about the center of the collection and the standard deviation about its spread, means are often reported using the SD as uncertainties.\n",
    "\n",
    "Calculate the mean 'Total Compensation' and report it using one standard deviation as uncertainties. Calculate also the range of the distribution, i.e. the minimum and minimum and maximum of the total compensation.\n"
   ]
  },
  {
   "cell_type": "code",
   "execution_count": 9,
   "metadata": {},
   "outputs": [
    {
     "name": "stdout",
     "output_type": "stream",
     "text": [
      "The mean Total Compensation is 115 +- 61 (mean +- SD) thousand dollars annually, \n",
      "with a range (11.05, 648.88)\n"
     ]
    }
   ],
   "source": [
    "# you can use NumPy to compute the statistics\n",
    "TC_mean =  np.mean(TC_k)\n",
    "TC_std =  np.std(TC_k)\n",
    "TC_min =  np.min(TC_k)\n",
    "TC_max =  np.max(TC_k)\n",
    "\n",
    "# Report the mean 'Total Compensation' using the standard deviation and uncertainties\n",
    "print(\"The mean Total Compensation is {:.0f} +- {:.0f} (mean +- SD) \"\\\n",
    "      \"thousand dollars annually, \\nwith a range \"\\\n",
    "      \"({:.2f}, {:.2f})\".format(TC_mean, TC_std, TC_min, TC_max))\n"
   ]
  },
  {
   "cell_type": "markdown",
   "metadata": {},
   "source": [
    "Reporting the mean with such uncertainties makes sense of symmetric distributions. \n",
    "However, from the range of the distribution, we can tell that the 'Total Compensation' is not symmetrically distributed. So let's have a look at the distribution!\n"
   ]
  },
  {
   "cell_type": "markdown",
   "metadata": {},
   "source": [
    "#### Distribution of total compensation\n",
    "\n",
    "Plot an histogram of the 'Total Compensation' in the range 0 to 700 K dollars.\n",
    "\n",
    "Hint: use `plt.hist()`"
   ]
  },
  {
   "cell_type": "code",
   "execution_count": 11,
   "metadata": {},
   "outputs": [
    {
     "data": {
      "text/plain": [
       "Text(0.5, 0, 'Total Compensation (k$)')"
      ]
     },
     "execution_count": 11,
     "metadata": {},
     "output_type": "execute_result"
    },
    {
     "data": {
      "image/png": "[encoded data removed]",
      "text/plain": [
       "<Figure size 432x288 with 1 Axes>"
      ]
     },
     "metadata": {
      "needs_background": "light"
     },
     "output_type": "display_data"
    }
   ],
   "source": [
    "plt.hist(TC_k, range=(0, 700), bins=20, density=True)\n",
    "plt.xlabel(\"Total Compensation (k$)\")"
   ]
  },
  {
   "cell_type": "markdown",
   "metadata": {},
   "source": [
    "As expected, the distribution is not symmetric, but right-skewed due to the few high-income points. \n",
    "\n",
    "One thing to ask know is what is the middle point of the distribution - the point that divides the distribution into two halves with the same number of items each, and this is what the median tells us.\n"
   ]
  },
  {
   "cell_type": "markdown",
   "metadata": {},
   "source": [
    "#### Median\n"
   ]
  },
  {
   "cell_type": "code",
   "execution_count": 12,
   "metadata": {
    "scrolled": true
   },
   "outputs": [
    {
     "name": "stdout",
     "output_type": "stream",
     "text": [
      "The median is 110.3 thousand dollars annually\n"
     ]
    }
   ],
   "source": [
    "TC_median = np.median(TC_k)\n",
    "print(\"The median is {:.1f} thousand dollars annually\".format(TC_median))"
   ]
  },
  {
   "cell_type": "markdown",
   "metadata": {},
   "source": [
    "#### Percentiles\n",
    "\n",
    "In addition to the midpoint of the distribution one can split the distribution into any fraction and this is what the percentiles measure."
   ]
  },
  {
   "cell_type": "markdown",
   "metadata": {},
   "source": [
    "What are the 10, 50 and 90 percentiles?"
   ]
  },
  {
   "cell_type": "code",
   "execution_count": 14,
   "metadata": {},
   "outputs": [
    {
     "name": "stdout",
     "output_type": "stream",
     "text": [
      "10, 50 and 90 percentiles [ 32.756136 110.30579  196.293506]\n"
     ]
    }
   ],
   "source": [
    "print(\"10, 50 and 90 percentiles {}\".format( np.percentile(TC_k, [10, 50, 90])))"
   ]
  },
  {
   "cell_type": "markdown",
   "metadata": {},
   "source": [
    "Notice that the 50 percentile is he same as to the median, as is natural from the definition of the median."
   ]
  },
  {
   "cell_type": "markdown",
   "metadata": {},
   "source": [
    "#### How would you describe the employee compensation in the City of San Francisco?\n",
    "\n",
    "Describe with words referring to the distribution ans the statistics from above."
   ]
  },
  {
   "cell_type": "raw",
   "metadata": {},
   "source": [
    "The distribution of the employee compensation in the City of San Francisco is right-skewed with a median of 110.3k ± 61k in a range from 11.05k to 648.88k."
   ]
  },
  {
   "cell_type": "markdown",
   "metadata": {},
   "source": [
    "## Part 2: Estimating the Median from a Random Sample\n",
    "\n",
    "Normally we don't have access to the entire population and we want to make estimates, for example, the median, about it from a random sample. \n",
    "In this part, we simulate this situation by drawing a random sample of 500 points from the population, calculating the median as an estimate of the population median (parameter). Then we use Bootstrapping to calculate the confidence of the estimate. \n",
    "\n",
    "#### Random sample\n",
    "\n",
    "Draw a random sample form the population `TC`.\n",
    "\n",
    "Hint: use `np.random.choice()` with and set the keyword argument replace to `False`"
   ]
  },
  {
   "cell_type": "code",
   "execution_count": 15,
   "metadata": {},
   "outputs": [
    {
     "name": "stdout",
     "output_type": "stream",
     "text": [
      "Sample median 109.19\n"
     ]
    },
    {
     "data": {
      "image/png": "[encoded data removed]",
      "text/plain": [
       "<Figure size 432x288 with 1 Axes>"
      ]
     },
     "metadata": {
      "needs_background": "light"
     },
     "output_type": "display_data"
    }
   ],
   "source": [
    "# draw sample with 500 elements\n",
    "n = 500\n",
    "our_sample = np.random.choice(TC_k, size=n, replace=False)\n",
    "\n",
    "# plot an histogram\n",
    "plt.hist(our_sample, range=(0,700))\n",
    "\n",
    "# Calcualte the median of the sample\n",
    "sample_median = np.median(our_sample)\n",
    "print(\"Sample median {:.2f}\".format(sample_median))"
   ]
  },
  {
   "cell_type": "markdown",
   "metadata": {},
   "source": [
    "> To see how different the estimate would be if the sample had come out differently, we could just draw another sample from the population, but that would be cheating. We are trying to mimic real life, in which we won't have all the population data at hand.\n",
    "\n",
    "> Somehow, we have to get another random sample without sampling from the population.\n",
    "\n"
   ]
  },
  {
   "cell_type": "markdown",
   "metadata": {},
   "source": [
    "### The Bootstrap: Resampling from the Sample\n",
    "\n",
    "WARNING: the following paragraph is quite loaded with jargon and may sound like a tongue twister.\n",
    "\n",
    "The idea behind bootstrapping is to simulate possible samples by randomly sampling our sample. \n",
    "For each of this samples we compute the statistic, in our case the median, thus obtaining a distribution of bootstrap sample medians. The 95% confidence interval is given by the 2.5 and 97.5% of this distribution.\n",
    "\n",
    " \n",
    "Read more about the Bootstrap method [here](https://www.inferentialthinking.com/chapters/13/2/Bootstrap.html).\n",
    "\n",
    "#### Resample\n",
    "\n",
    "The because we're drawing a sample from the original sample we want to draw the elements mantaining the probabilities of the original sample, thus we sample with replacement.\n"
   ]
  },
  {
   "cell_type": "code",
   "execution_count": 20,
   "metadata": {},
   "outputs": [
    {
     "data": {
      "text/plain": [
       "(array([ 69.,  51.,  88., 111.,  69.,  47.,  31.,  14.,  11.,   9.]),\n",
       " array([ 15.19292 ,  43.107871,  71.022822,  98.937773, 126.852724,\n",
       "        154.767675, 182.682626, 210.597577, 238.512528, 266.427479,\n",
       "        294.34243 ]),\n",
       " <a list of 10 Patch objects>)"
      ]
     },
     "execution_count": 20,
     "metadata": {},
     "output_type": "execute_result"
    },
    {
     "data": {
      "image/png": "[encoded data removed]",
      "text/plain": [
       "<Figure size 432x288 with 1 Axes>"
      ]
     },
     "metadata": {
      "needs_background": "light"
     },
     "output_type": "display_data"
    }
   ],
   "source": [
    "# draw a sample with replacement from the original sample our_sample\n",
    "resample_1 = np.random.choice(our_sample, n, replace=True)\n",
    "# plot histogram of the drawed sample\n",
    "plt.hist(resample_1)"
   ]
  },
  {
   "cell_type": "markdown",
   "metadata": {},
   "source": [
    "#### Bootstrap Empirical Distribution of the Sample Median \n",
    "\n",
    "> Let us define a function bootstrap_median that takes our original sample, the label of the column containing the variable, and the number of bootstrap samples we want to take, and returns an array of the corresponding resampled medians.\n",
    "\n",
    "> Each time we resample and find the median, we replicate the bootstrap process. So the number of bootstrap samples will be called the number of replications."
   ]
  },
  {
   "cell_type": "code",
   "execution_count": 21,
   "metadata": {},
   "outputs": [],
   "source": [
    "def bootstrap_median(original_sample, replications):\n",
    "    \"\"\"Returns an array of bootstrapped sample medians\n",
    "    Parameters\n",
    "    ----------\n",
    "    original_sample: array containing the original sample\n",
    "    replications: number of bootstrap samples\n",
    "    \"\"\"\n",
    "    n = len(original_sample)\n",
    "    medians = np.zeros(replications)\n",
    "    for i in np.arange(replications):\n",
    "        bootstrap_sample = np.random.choice(original_sample, n, replace=True)\n",
    "        resampled_median = np.median(bootstrap_sample)\n",
    "        medians[i] = resampled_median\n",
    "        \n",
    "    return medians"
   ]
  },
  {
   "cell_type": "markdown",
   "metadata": {},
   "source": [
    "Let's use the function `bootstrap_median` to get the distribution of medians with 5000 replications."
   ]
  },
  {
   "cell_type": "code",
   "execution_count": 22,
   "metadata": {},
   "outputs": [],
   "source": [
    "bstrap_medians = bootstrap_median(our_sample, 5000)"
   ]
  },
  {
   "cell_type": "markdown",
   "metadata": {},
   "source": [
    "Now let's plot the histogram of the 5000 bootstrap medians together with the sample median (`sample_median`) that we calculated with the original sample and the middle 95% interval."
   ]
  },
  {
   "cell_type": "code",
   "execution_count": 48,
   "metadata": {},
   "outputs": [
    {
     "name": "stdout",
     "output_type": "stream",
     "text": [
      "The sample median 109.2\n",
      "95% confidence interval of the median (103.9, 114.1)\n"
     ]
    },
    {
     "data": {
      "text/plain": [
       "Text(0.5, 0, 'Bootstrapped medians')"
      ]
     },
     "execution_count": 48,
     "metadata": {},
     "output_type": "execute_result"
    },
    {
     "data": {
      "image/png": "[encoded data removed]",
      "text/plain": [
       "<Figure size 432x288 with 1 Axes>"
      ]
     },
     "metadata": {
      "needs_background": "light"
     },
     "output_type": "display_data"
    }
   ],
   "source": [
    "# calculate the right percentile 2.5 and left percentile 97.5 of bstrap_medians \n",
    "leftp, rightp = np.percentile(bstrap_medians, [2.5, 97.5])\n",
    "print(\"The sample median {:.1f}\\n95% confidence interval of the median ({:.1f}, {:.1f})\".format(sample_median, leftp, rightp))\n",
    "\n",
    "# plot histogram of the bstrap_medians with the 95% confidence intervals and the sample median\n",
    "plt.hist(bstrap_medians, density=True)\n",
    "# indicate the middle 95% with an horizontal line\n",
    "plt.hlines(0.0, leftp, rightp, 'y', lw=8)  # 2.5 and 97.5 percentiles\n",
    "# indicate the sample median with a red dot\n",
    "plt.plot(sample_median, 0.0053, 'v-r', ms=10)  # median\n",
    "plt.xlabel('Bootstrapped medians')"
   ]
  },
  {
   "cell_type": "markdown",
   "metadata": {},
   "source": [
    "> To summarize what the simulation shows, suppose you are estimating the population median by the following process:\n",
    "> * Draw a large random sample from the population.\n",
    "> * Bootstrap your random sample and get an estimate from the new random sample.\n",
    "> * Repeat the above step thousands of times, and get thousands of estimates.\n",
    "> * Pick off the \"middle 95%\" interval of all the estimates.\n",
    "\n",
    "> That gives you one interval of estimates. Now if you repeat the entire process 100 times, ending up with 100 intervals, then about 95 of those 100 intervals will contain the population parameter.\n",
    "> In other words, this process of estimation captures the parameter about 95% of the time.\n",
    "> You can replace 95% by a different value, as long as it's not 100. Suppose you replace 95% by 80% and keep the sample size fixed at 500. Then your intervals of estimates will be shorter than those we simulated here, because the \"middle 80%\" is a smaller range than the \"middle 95%\". Only about 80% of your intervals will contain the parameter."
   ]
  },
  {
   "cell_type": "markdown",
   "metadata": {},
   "source": [
    "# EXTRA\n",
    "## Repeating Bootstrap-Replications for Confidence on Population-Parameter"
   ]
  },
  {
   "cell_type": "code",
   "execution_count": 128,
   "metadata": {},
   "outputs": [],
   "source": [
    "# Repeat bootstrap-process and save 2.5/97.5-percentiles\n",
    "repetitions = 100\n",
    "l_ends = np.zeros(repetitions)\n",
    "r_ends = np.zeros(repetitions)\n",
    "for i in range(repetitions):\n",
    "    sample = np.random.choice(TC_k, size=500, replace=False)\n",
    "    bstrap_medians = bootstrap_median(sample, replications=500)\n",
    "    l_ends[i], r_ends[i] = np.percentile(bstrap_medians, [2.5, 97.5])"
   ]
  },
  {
   "cell_type": "code",
   "execution_count": 129,
   "metadata": {},
   "outputs": [
    {
     "data": {
      "text/plain": [
       "Text(0.5, 1.0, 'Distribution of the Median for Income \\nwith 95% Confidence Interval\\n for 100 Samples')"
      ]
     },
     "execution_count": 129,
     "metadata": {},
     "output_type": "execute_result"
    },
    {
     "data": {
      "image/png": "[encoded data removed]",
      "text/plain": [
       "<Figure size 432x288 with 1 Axes>"
      ]
     },
     "metadata": {
      "needs_background": "light"
     },
     "output_type": "display_data"
    }
   ],
   "source": [
    "# Plot 100 95%-Confidence-Intervals\n",
    "for i in range(repetitions):\n",
    "    interval = np.arange(l_ends[i], r_ends[i])\n",
    "    plt.plot(interval, np.full(shape=len(interval), fill_value=i), color=\"gold\")\n",
    "\n",
    "plt.vlines(TC_median, 0, 100, color=\"red\")\n",
    "plt.xlabel(\"Income [k$]\")\n",
    "plt.ylabel(\"Repetition Number\")\n",
    "plt.title(\"Distribution of the Median for Income \\nwith 95% Confidence Interval\\n for 100 Samples\")"
   ]
  },
  {
   "cell_type": "code",
   "execution_count": 130,
   "metadata": {},
   "outputs": [],
   "source": [
    "table = np.zeros(repetitions)\n",
    "for i in range(repetitions):\n",
    "    table[i] = l_ends[i] <= TC_median <= r_ends[i]"
   ]
  },
  {
   "cell_type": "code",
   "execution_count": 132,
   "metadata": {},
   "outputs": [
    {
     "data": {
      "text/plain": [
       "0.93"
      ]
     },
     "execution_count": 132,
     "metadata": {},
     "output_type": "execute_result"
    }
   ],
   "source": [
    "sum(table) / len(table)"
   ]
  },
  {
   "cell_type": "code",
   "execution_count": null,
   "metadata": {},
   "outputs": [],
   "source": []
  }
 ],
 "metadata": {
  "kernelspec": {
   "display_name": "Python 3",
   "language": "python",
   "name": "python3"
  },
  "language_info": {
   "codemirror_mode": {
    "name": "ipython",
    "version": 3
   },
   "file_extension": ".py",
   "mimetype": "text/x-python",
   "name": "python",
   "nbconvert_exporter": "python",
   "pygments_lexer": "ipython3",
   "version": "3.7.6"
  }
 },
 "nbformat": 4,
 "nbformat_minor": 4
}
